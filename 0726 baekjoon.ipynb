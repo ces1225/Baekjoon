{
 "cells": [
  {
   "cell_type": "markdown",
   "metadata": {},
   "source": [
    "## 19532 수학은 비대면 강의입니다 (x)"
   ]
  },
  {
   "cell_type": "code",
   "execution_count": null,
   "metadata": {},
   "outputs": [],
   "source": [
    "#  브루트 포스를 통하여 구함\n",
    "a,b,c,d,e,f = map(int,input().split())\n",
    "for x in range(-999,1000):\n",
    "    for y in range(-999,1000):\n",
    "        if (a*x+b*y == c) and (d*x+e*y==f):\n",
    "            print(x,y)\n",
    "            break\n",
    "\n",
    "# 연립방정식 식을 설계하여 구함\n",
    "import sys\n",
    "\n",
    "a,b,p,c,d,q=map(int,sys.stdin.readline().split())\n",
    "y = ((a*q)-(c*p)) // ((a*d)-(b*c)) \n",
    "x = ((d*p)-(b*q)) // ((a*d)-(b*c))\n",
    "print(x,y)           "
   ]
  }
 ],
 "metadata": {
  "language_info": {
   "name": "python"
  }
 },
 "nbformat": 4,
 "nbformat_minor": 2
}
