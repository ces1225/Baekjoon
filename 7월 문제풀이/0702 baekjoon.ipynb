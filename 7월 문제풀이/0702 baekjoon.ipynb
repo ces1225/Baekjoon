{
 "cells": [
  {
   "cell_type": "markdown",
   "metadata": {},
   "source": [
    "## 5597. 과제 안내신 분?"
   ]
  },
  {
   "cell_type": "code",
   "execution_count": null,
   "metadata": {},
   "outputs": [],
   "source": [
    "n=28\n",
    "n_list=[]\n",
    "for i in range(n):\n",
    "    n_list.append(int(input()))\n",
    "na=set(n_list)\n",
    "\n",
    "total_list=[]\n",
    "for i in range(1,31):\n",
    "    total_list.append(i)\n",
    "    i+=1\n",
    "a=set(total_list)\n",
    "\n",
    "print(min(a-na))\n",
    "print(max(a-na))"
   ]
  },
  {
   "cell_type": "markdown",
   "metadata": {},
   "source": [
    "## 2775. 부녀회장이 될거야"
   ]
  },
  {
   "cell_type": "code",
   "execution_count": null,
   "metadata": {},
   "outputs": [],
   "source": [
    "t=int(input())\n",
    "\n",
    "for _ in range(t):\n",
    "    floor = int(input())\n",
    "    room = int(input())\n",
    "    lst = [x for x in range(1,room+1)] # 0층\n",
    "    for k in range(floor): #층수\n",
    "        for i in range(1,room): #1호~n-1호까지의 인덱스\n",
    "            lst[i] = lst[i] + lst[i-1]\n",
    "    print(lst[-1])\n",
    "\n",
    "'''\n",
    "제대로 못 푼 문제\n",
    "'''"
   ]
  }
 ],
 "metadata": {
  "language_info": {
   "name": "python"
  }
 },
 "nbformat": 4,
 "nbformat_minor": 2
}
