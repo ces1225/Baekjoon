{
 "cells": [
  {
   "cell_type": "markdown",
   "metadata": {},
   "source": [
    "## 10809 알파벳 찾기"
   ]
  },
  {
   "cell_type": "code",
   "execution_count": null,
   "metadata": {},
   "outputs": [],
   "source": [
    "S=list(input())\n",
    "\n",
    "import string\n",
    "lower = string.ascii_lowercase\n",
    "cpl = list(lower)\n",
    "\n",
    "for i in cpl:\n",
    "    if i in S:\n",
    "        print(S.index(i), end=\" \")\n",
    "    else:\n",
    "        print(-1,end=\" \")\n",
    "\n",
    "\"\"\"\n",
    "이중 for문을 사용하지않고 똑같은 i로 돌면 된다 S에서 i가 돌고 -1로 나가면 \n",
    "이후에 반복될 일이 없었는데 생각이 좀 부족했고 for문사용이 미흡했음\n",
    "\n",
    "\"\"\""
   ]
  },
  {
   "cell_type": "markdown",
   "metadata": {},
   "source": [
    "## 1152 단어의 개수"
   ]
  },
  {
   "cell_type": "code",
   "execution_count": null,
   "metadata": {},
   "outputs": [],
   "source": [
    "print(len(input().split()))\n",
    "\n",
    "\"\"\"\n",
    "strip 좌 우측 공백 제거\n",
    "lstrip 좌측 / rstrip 우측 공백 제거\n",
    "split() ()안의 문자 기준으로 문자열을 쪼개 리스트로 변환\n",
    "대부분 자주 사용하는 ()의 경우, 모든공백을 한번에 처리\n",
    "단, (\" \")는 공백 하나하나를 다 처리하게됨.\n",
    "\"\"\""
   ]
  }
 ],
 "metadata": {
  "language_info": {
   "name": "python"
  }
 },
 "nbformat": 4,
 "nbformat_minor": 2
}
