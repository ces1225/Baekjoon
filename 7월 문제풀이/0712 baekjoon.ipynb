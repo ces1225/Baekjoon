{
 "cells": [
  {
   "cell_type": "markdown",
   "metadata": {},
   "source": [
    "## 2941. 크로아티아 알파벳"
   ]
  },
  {
   "cell_type": "code",
   "execution_count": null,
   "metadata": {},
   "outputs": [],
   "source": [
    "croatia = ['c=', 'c-', 'dz=', 'd-', 'lj', 'nj', 's=', 'z=']\n",
    "word=input()\n",
    "for i in croatia :\n",
    "    word=word.replace(i,'*')\n",
    "print(len(word))\n",
    "\n",
    "\"\"\"\n",
    "묶어서 대체할 수 있다고 생각은 했지만 replace를 사용할 생각을 못했다.\n",
    "input을 리스트가 아닌 str로 받아주면서 문자열 전체를 사용할 수 있게 했고, \n",
    "따라서 위에 비교군에서 바로바로 뽑아와서 사용할 수 있었다.\n",
    "\n",
    "문자열을 사용한다면 똑같은 언어가 나오면 바로 뽑아낼 수 있다는 것을 생각하자\n",
    "\"\"\""
   ]
  }
 ],
 "metadata": {
  "language_info": {
   "name": "python"
  }
 },
 "nbformat": 4,
 "nbformat_minor": 2
}
