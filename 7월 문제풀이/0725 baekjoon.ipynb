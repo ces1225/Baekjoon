{
 "cells": [
  {
   "cell_type": "markdown",
   "metadata": {},
   "source": [
    "## 3009 네 번쨰 점 (X)"
   ]
  },
  {
   "cell_type": "code",
   "execution_count": null,
   "metadata": {},
   "outputs": [],
   "source": [
    "x_point=[]\n",
    "y_point=[]\n",
    "\n",
    "for _ in range(3):\n",
    "    x,y=map(int,input().split())\n",
    "    x_point.append(x)\n",
    "    y_point.append(y)\n",
    "\n",
    "for i in range(3):\n",
    "    if x_point.count(x_point[i]) == 1:\n",
    "        x4=x_point[i]\n",
    "    if y_point.count(y_point[i]) == 1:\n",
    "        y4=y_point[i]\n",
    "print(x4,y4)"
   ]
  },
  {
   "cell_type": "markdown",
   "metadata": {},
   "source": [
    "# 24313 알고리즘 수업 = 점근적 표기 (X)"
   ]
  },
  {
   "cell_type": "code",
   "execution_count": null,
   "metadata": {},
   "outputs": [],
   "source": [
    "a1,a0 =map(int,input().split())\n",
    "c = int(input())\n",
    "n0 = int(input())\n",
    "\n",
    "if (a1*n0 + a0) <= (c*n0) and a1 <= c:\n",
    "    print(1)\n",
    "else:\n",
    "    print(0)\n",
    "'''\n",
    "g(n)이 n인 이유: n은 모든 n>=n0에 성립하는 g(n)을 가지기 때문에\n",
    "fn인 n에 맞춰도 성립을 해야함\n",
    "따라서 fn= a1*n+ a0 이라도 gn이 c*n이어도 성립을 해야함\n",
    "\n",
    "a1 <= c이어야 하는 경우\n",
    "a0가 음수인 경우 부등호 반대의 경우 나옴\n",
    "예시 a1 5 a0 -2 c 3\n",
    "5n-2 <= 3n인데 이경우 8 <= 6 으로 반례 존재\n",
    "문제에서 묻는 gn의 식은 위를 만족하는 c와 n0이 존재한다 이기 때문에\n",
    "위의 조건만 충족시켜준다면 c와 n0으로 다 맞출수있음\n",
    "'''    "
   ]
  },
  {
   "attachments": {
    "image-2.png": {
     "image/png": "[encoded data removed]"
    },
    "image.png": {
     "image/png": "[encoded data removed]"
    }
   },
   "cell_type": "markdown",
   "metadata": {},
   "source": [
    "## 24267 알고리즘 수업 - 알고리즘의 수행 시간 6 (X)\n",
    "\n",
    "\n",
    "![image.png](attachment:image.png)\n",
    "![image-2.png](attachment:image-2.png)"
   ]
  },
  {
   "cell_type": "code",
   "execution_count": null,
   "metadata": {},
   "outputs": [],
   "source": [
    "n=int(input())\n",
    "print((n*(n-1)*(n-2))//6)\n",
    "print(\"3\")  \n",
    "\n",
    "\"\"\"\n",
    "MenOfPassion(A[], n) {\n",
    "    sum <- 0;\n",
    "    for i <- 1 to n - 2\n",
    "        for j <- i + 1 to n - 1\n",
    "            for k <- j + 1 to n\n",
    "                sum <- sum + A[i] × A[j] × A[k]; # 코드1\n",
    "    return sum;\n",
    "}\n",
    "위 방식의 코드는 중복을 허용하지 않는 조합 ex 7C3과 같은 것도 가능하다\n",
    "\"\"\""
   ]
  },
  {
   "cell_type": "markdown",
   "metadata": {},
   "source": [
    "## 2798 블랙잭 (X)"
   ]
  },
  {
   "cell_type": "code",
   "execution_count": null,
   "metadata": {},
   "outputs": [],
   "source": [
    "n,m=map(int,input().split())\n",
    "num=list(map(int,(input().split())))\n",
    "sum=[]\n",
    "for i in range(n):\n",
    "    for j in range(i+1,n):\n",
    "        for k in range(j+1,n):\n",
    "            if num[i]+num[j]+num[k] <= m:\n",
    "                sum.append(num[i]+num[j]+num[k])\n",
    "print(max(sum))"
   ]
  },
  {
   "cell_type": "markdown",
   "metadata": {},
   "source": [
    "# 2231 분해합 (X)"
   ]
  },
  {
   "cell_type": "code",
   "execution_count": null,
   "metadata": {},
   "outputs": [],
   "source": [
    "N=int(input())\n",
    "result=0\n",
    "for i in range(1, N+1):\n",
    "    num=list(map(int,str(i)))\n",
    "    result = sum(num) + i \n",
    "    if result == N:\n",
    "        print(i)\n",
    "        break\n",
    "    if i == N:\n",
    "        print(0)\n",
    "\n",
    "\"\"\"\n",
    "식이 돌아가는 구조를 한번 잘 봐라\n",
    "브루트 포스는 가능한 한 모든 경우의 수를 다 따지는 것이다\n",
    "\"\"\""
   ]
  }
 ],
 "metadata": {
  "language_info": {
   "name": "python"
  }
 },
 "nbformat": 4,
 "nbformat_minor": 2
}
