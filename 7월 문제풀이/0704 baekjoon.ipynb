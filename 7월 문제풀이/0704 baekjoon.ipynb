{
 "cells": [
  {
   "cell_type": "markdown",
   "metadata": {},
   "source": [
    "## 2884 알람시계"
   ]
  },
  {
   "cell_type": "code",
   "execution_count": null,
   "metadata": {},
   "outputs": [],
   "source": [
    "h,m = map(int, input().split())\n",
    "\n",
    "if m < 45:\n",
    "    if h == 0:\n",
    "        h = 23\n",
    "        m = m + 60\n",
    "    else:\n",
    "        h = h-1\n",
    "        m = m + 60\n",
    "print( h, m-45)\n",
    "\n",
    "'''\n",
    "항상 조건적인 부분을 빼내고 나머지를 일괄 처리할 수 있도록 하자\n",
    "'''"
   ]
  },
  {
   "cell_type": "markdown",
   "metadata": {},
   "source": [
    "## 15552. 빠른 A+B"
   ]
  },
  {
   "cell_type": "code",
   "execution_count": null,
   "metadata": {},
   "outputs": [],
   "source": [
    "import sys\n",
    "t = int(sys.stdin.readline())\n",
    "for _ in range(t):\n",
    "    a,b = map(int, sys.stdin.readline().split())\n",
    "    print(a+b)\n",
    "\n",
    "#  input() 대신에 sys.stdin.readline()를 그냥 집어넣기만 하면 됨.\n",
    "#  이 경우, sys 모듈을 꼭 가져와줘야함"
   ]
  }
 ],
 "metadata": {
  "language_info": {
   "name": "python"
  }
 },
 "nbformat": 4,
 "nbformat_minor": 2
}
