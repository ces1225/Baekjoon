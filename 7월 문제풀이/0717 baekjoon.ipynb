{
 "cells": [
  {
   "cell_type": "markdown",
   "metadata": {},
   "source": [
    "## 2566 최댓값"
   ]
  },
  {
   "cell_type": "code",
   "execution_count": null,
   "metadata": {},
   "outputs": [],
   "source": [
    "a=[]\n",
    "ans=[]\n",
    "for i in range(9):\n",
    "    a.append(list(map(int,input().split())))\n",
    "\n",
    "for i in a:\n",
    "    ans.append(max(i))\n",
    "\n",
    "for i in range(9):\n",
    "    if max(ans) not in a[i]:\n",
    "        pass\n",
    "    if max(ans) in a[i]:\n",
    "        idx=a[i].index(max(ans))\n",
    "        print(max(ans))\n",
    "        print(i+1, idx+1)"
   ]
  },
  {
   "cell_type": "markdown",
   "metadata": {},
   "source": [
    "## 10798 세로 읽기"
   ]
  },
  {
   "cell_type": "code",
   "execution_count": null,
   "metadata": {},
   "outputs": [],
   "source": [
    "a=[]\n",
    "for i in range(5):\n",
    "    a_ = list(input())\n",
    "    a.append(a_)\n",
    "\n",
    "for j in range(15):\n",
    "    for i in range(5):\n",
    "        try:\n",
    "            print(a[i][j],end=\"\")\n",
    "        except IndexError:\n",
    "            pass\n",
    "\n",
    "\n",
    "'''\n",
    "예외 처리 구문으로 풀긴 했는데 일단 다른 식들은\n",
    "\n",
    "lines= []\n",
    "length = [] # 입력받는 단어 각각의 길이를 나타내는 length \n",
    "ans = ''\n",
    "for _ in range(5):\n",
    "    line=input()\n",
    "    length.append(len(line))\n",
    "    lines.append(line)\n",
    "\n",
    "for j in range(max(length)):\n",
    "    for i in range(5):\n",
    "    # if문에서 j가 length[i], 즉 index 범위를 벗어난다면 글자 추가가 일어나지 않는다 ! \n",
    "        if j< length[i]:\n",
    "            ans+=lines[i][j]\n",
    "print(ans)\n",
    "\n",
    "처음 입력을 한 행과 그 길이를 같이 맞춰주면서 i,j를 통해 수식 전개\n",
    "'''"
   ]
  },
  {
   "cell_type": "markdown",
   "metadata": {},
   "source": []
  },
  {
   "cell_type": "code",
   "execution_count": null,
   "metadata": {},
   "outputs": [],
   "source": []
  }
 ],
 "metadata": {
  "language_info": {
   "name": "python"
  }
 },
 "nbformat": 4,
 "nbformat_minor": 2
}
