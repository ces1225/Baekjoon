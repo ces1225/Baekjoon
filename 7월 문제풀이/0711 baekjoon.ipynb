{
 "cells": [
  {
   "cell_type": "markdown",
   "metadata": {},
   "source": [
    "## 10988 팰린드롬인지 확인하기 (X)"
   ]
  },
  {
   "cell_type": "code",
   "execution_count": null,
   "metadata": {},
   "outputs": [],
   "source": [
    "w=list(str(input()))\n",
    "if list(reversed(w)) == w:\n",
    "    print(\"1\")\n",
    "else:\n",
    "    print(\"0\")\n",
    "\n",
    "\n",
    "\"\"\"\n",
    "word = list(input())\n",
    "if word == word[::-1] :\n",
    "    print(1)\n",
    "else :\n",
    "    print(0)\n",
    "    \"\"\""
   ]
  },
  {
   "cell_type": "markdown",
   "metadata": {},
   "source": [
    "## 1157 단어 공부 (X)"
   ]
  },
  {
   "cell_type": "code",
   "execution_count": null,
   "metadata": {},
   "outputs": [],
   "source": [
    "'''W=list(str(input()))\n",
    "ans=[]\n",
    "for i in W:\n",
    "    ans.append(W.count(i))\n",
    "\n",
    "if ans.count(max(ans)) > 1:\n",
    "    print(\"?\")\n",
    "else:\n",
    "    b=ans.index(max(ans))\n",
    "    print((W[b]).upper())'''\n",
    "\n",
    "#정답\n",
    "\n",
    "word = input().upper()\n",
    "wlst = list(set(word))\n",
    "\n",
    "cnt= []\n",
    "for i in wlst:\n",
    "    count = word.count\n",
    "    cnt.append(count(i))\n",
    "\n",
    "if cnt.count(max(cnt)) > 1:\n",
    "    print(\"?\")\n",
    "else:\n",
    "    print(wlst[cnt.index(max(cnt))])\n",
    "'''\n",
    "시간 초과로 틀린 문제 \n",
    "몰랐던 부분 \n",
    "upper의 사용번 완전 숙지 x\n",
    "str만 있는 list에서도 max 함수는 사용이 가능하다\n",
    "최대값을 카운팅하는 것이기에 저런 식도 사용이 가능하다\n",
    "집합의 특징 : 중복된 원소 불가를 통해 식을 간결화했다\n",
    "'''"
   ]
  }
 ],
 "metadata": {
  "language_info": {
   "name": "python"
  }
 },
 "nbformat": 4,
 "nbformat_minor": 2
}
