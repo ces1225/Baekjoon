{
 "cells": [
  {
   "cell_type": "markdown",
   "metadata": {},
   "source": [
    "## 10870 피보나치 수 5"
   ]
  },
  {
   "cell_type": "code",
   "execution_count": null,
   "metadata": {},
   "outputs": [],
   "source": [
    "n=int(input())\n",
    "ans=0\n",
    "ans_=[]\n",
    "for i in range(n+1):\n",
    "    if i == 0:\n",
    "        ans_.insert(i,ans)\n",
    "    if i == 1:\n",
    "        ans = ans + 1 \n",
    "        ans_.insert(i,ans)\n",
    "    if i >= 2:\n",
    "        ans = int(ans_[i-1]) + int(ans_[i-2])\n",
    "        ans_.insert(i, ans)\n",
    "\n",
    "print(ans_[n])"
   ]
  },
  {
   "cell_type": "markdown",
   "metadata": {},
   "source": [
    "## 1292 쉽게 푸는 문제"
   ]
  },
  {
   "cell_type": "code",
   "execution_count": null,
   "metadata": {},
   "outputs": [],
   "source": [
    "a,b=map(int,input().split())\n",
    "\n",
    "array=[]\n",
    "ans=1\n",
    "\n",
    "for _ in range(1000):\n",
    "    for i in range(ans):\n",
    "        array.append(ans)\n",
    "    ans = ans + 1\n",
    "    \n",
    "print(sum(array[a-1:b]))"
   ]
  },
  {
   "cell_type": "markdown",
   "metadata": {},
   "source": [
    "## 1427. 코트인사이드"
   ]
  },
  {
   "cell_type": "code",
   "execution_count": null,
   "metadata": {},
   "outputs": [],
   "source": [
    "n=list(input())\n",
    "n.sort()\n",
    "n.reverse()\n",
    "print(*n,sep=\"\")"
   ]
  },
  {
   "cell_type": "markdown",
   "metadata": {},
   "source": [
    "## 1193 분수 찾기"
   ]
  },
  {
   "cell_type": "code",
   "execution_count": null,
   "metadata": {},
   "outputs": [],
   "source": [
    "#  열심히 풀었으나 오답\n",
    "# n=int(input())\n",
    "# array=[]\n",
    "# ans=1\n",
    "# for _ in range(n):\n",
    "#     for i in range(ans):\n",
    "#         if ans % 2 ==0:\n",
    "#             for j in range(ans):\n",
    "#                 array.append((1+j)/(ans-j))\n",
    "#         elif ans % 2 == 1:\n",
    "#             for k in range(ans):\n",
    "#                 array.append((ans-k)/(1+k))\n",
    "#         ans=ans+1\n",
    "# print(array[n-1])\n",
    "\n",
    "x = int(input())\n",
    "\n",
    "a = 1\n",
    "while x > a:   \n",
    "    x -= a     \n",
    "    a += 1     \n",
    "\n",
    "if a%2 == 1: \n",
    "    print(f'{a-x + 1}/{x}')\n",
    "else:\n",
    "    print(f'{x}/{a-x + 1}')\n",
    "\n",
    "'''\n",
    "식이 풀어가는 형식을 잘 봐야함\n",
    "a는 결국 시작하는 열, 홀수인지 짝수인지 판가름할 수 있는 수이다.\n",
    "x가 14인 경우, 1+2+3+4+5로 15가 된다.\n",
    "위 식의 경우가 a가 x보다 커지는 경우에 while문을 종료하기 때문에,\n",
    "x의 위치는 확보가 됨.\n",
    "'''\n",
    "\n"
   ]
  }
 ],
 "metadata": {
  "language_info": {
   "name": "python"
  }
 },
 "nbformat": 4,
 "nbformat_minor": 2
}
