{
 "cells": [
  {
   "cell_type": "markdown",
   "metadata": {},
   "source": [
    "## 10813 공 바꾸기"
   ]
  },
  {
   "cell_type": "code",
   "execution_count": null,
   "metadata": {},
   "outputs": [],
   "source": [
    "n,m=map(int,input().split())\n",
    "basket = list(range(1,n+1))\n",
    "for _ in range(m):\n",
    "    a,b=map(int,input().split())\n",
    "    basket[a-1], basket[b-1] = basket[b-1], basket[a-1]\n",
    "for i in range(n):\n",
    "    print(basket[i],end=\" \")\n",
    "\n"
   ]
  },
  {
   "cell_type": "markdown",
   "metadata": {},
   "source": [
    "## 3052 나머지"
   ]
  },
  {
   "cell_type": "code",
   "execution_count": null,
   "metadata": {},
   "outputs": [],
   "source": [
    "n= 10\n",
    "lst = [int(input())for _ in range(n)]\n",
    "ans_ = []\n",
    "cnt = 0\n",
    "for i in range(n):\n",
    "    a = lst[i] % 42\n",
    "    ans_.append(a)\n",
    "ans_.sort()\n",
    "for j in range(n):\n",
    "    if ans_[j-1] != ans_[j]:\n",
    "        cnt += 1\n",
    "if cnt == 0:\n",
    "    print(int(cnt+1))\n",
    "else:\n",
    "    print(cnt)"
   ]
  },
  {
   "cell_type": "markdown",
   "metadata": {},
   "source": [
    "## 10811 바구니 뒤집기"
   ]
  },
  {
   "cell_type": "code",
   "execution_count": null,
   "metadata": {},
   "outputs": [],
   "source": [
    "n,m = map(int,input().split())\n",
    "lst = []\n",
    "for t in range(1,n+1):\n",
    "    lst.append(t)\n",
    "\n",
    "for _ in range(m):\n",
    "    i , j =map(int,input().split())\n",
    "    temp = lst[i-1:j]\n",
    "    temp.reverse()\n",
    "    lst[i-1:j] = temp\n",
    "\n",
    "for k in range(n):\n",
    "    print(lst[k], end=\" \")\n",
    "\n",
    "    '''\n",
    "    슬라이싱한 리스트 부분들만도 함수 적용이 가능하다 이를 생각했으면 쉽게 계산 가능\n",
    "    '''"
   ]
  }
 ],
 "metadata": {
  "language_info": {
   "name": "python"
  }
 },
 "nbformat": 4,
 "nbformat_minor": 2
}
