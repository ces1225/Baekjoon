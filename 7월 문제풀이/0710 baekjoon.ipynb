{
 "cells": [
  {
   "cell_type": "markdown",
   "metadata": {},
   "source": [
    "## 2675 문자열 반복"
   ]
  },
  {
   "cell_type": "code",
   "execution_count": null,
   "metadata": {},
   "outputs": [],
   "source": [
    "T = int(input())\n",
    "for _ in range(T):\n",
    "    a = list(input())\n",
    "    num = int(a[0])\n",
    "    for i in a[2:]:\n",
    "        print(num*i,end=\"\")\n",
    "    print()\n",
    "\n",
    "    '''\n",
    "    간만에 안 보고 맞춤 ㅋㅋ\n",
    "    '''"
   ]
  },
  {
   "cell_type": "markdown",
   "metadata": {},
   "source": [
    "## 1152 단어의 개수"
   ]
  },
  {
   "cell_type": "code",
   "execution_count": null,
   "metadata": {},
   "outputs": [],
   "source": [
    "print(len(input().split()))\n",
    "\n",
    "\"\"\"\n",
    "strip 좌 우측 공백 제거\n",
    "lstrip 좌측 / rstrip 우측 공백 제거\n",
    "split() ()안의 문자 기준으로 문자열을 쪼개 리스트로 변환\n",
    "대부분 자주 사용하는 ()의 경우, 모든공백을 한번에 처리\n",
    "단, (\" \")는 공백 하나하나를 다 처리하게됨.\n",
    "\"\"\""
   ]
  },
  {
   "cell_type": "markdown",
   "metadata": {},
   "source": [
    "## 2908 상수 (실패)"
   ]
  },
  {
   "cell_type": "code",
   "execution_count": null,
   "metadata": {},
   "outputs": [],
   "source": [
    "a,b=input().split()\n",
    "\n",
    "a = a[::-1]\n",
    "b = b[::-1]\n",
    "\n",
    "print(a,b)\n",
    "\n",
    "'''\n",
    "# a,b=input().split()\n",
    "\n",
    "# A=list(a)\n",
    "# B=list(b)\n",
    "\n",
    "# A.reverse()\n",
    "# B.reverse()\n",
    "\n",
    "# x=int(A[0]+A[1]+A[2])\n",
    "# y=int(B[0]+B[1]+B[2])\n",
    "\n",
    "# print(max(x,y))\n",
    "'''\n",
    "\n",
    "'list로 바꿀수있는 방법들을 좀 더 생각해보자 /  '"
   ]
  },
  {
   "cell_type": "markdown",
   "metadata": {},
   "source": [
    "## 5622. 다이얼 "
   ]
  },
  {
   "cell_type": "code",
   "execution_count": null,
   "metadata": {},
   "outputs": [],
   "source": [
    "W= input()\n",
    "word=list(W)\n",
    "time = 0\n",
    "\n",
    "import string\n",
    "upper = string.ascii_uppercase\n",
    "cpl = list(upper)\n",
    "\n",
    "for i in word:\n",
    "    if i in cpl[0:3]:\n",
    "        time += 3\n",
    "    elif i in cpl[3:6]:\n",
    "        time += 4\n",
    "    elif i in cpl[6:9]:\n",
    "        time += 5\n",
    "    elif i in cpl[9:12]:\n",
    "        time += 6\n",
    "    elif i in cpl[12:15]:\n",
    "        time += 7\n",
    "    elif i in cpl[15:19]:\n",
    "        time += 8\n",
    "    elif i in cpl[19:22]:\n",
    "        time += 9\n",
    "    elif i in cpl[22:]:\n",
    "        time += 10\n",
    "print(time)"
   ]
  },
  {
   "cell_type": "markdown",
   "metadata": {},
   "source": [
    "## 11718 입력대로 출력하기 (X)"
   ]
  },
  {
   "cell_type": "code",
   "execution_count": null,
   "metadata": {},
   "outputs": [],
   "source": [
    "while True:\n",
    "    try:\n",
    "        print(input())\n",
    "    except EOFError:\n",
    "        break\n",
    "\n",
    "'''\n",
    "import sys\n",
    "\n",
    "words = sys.stdin.readlines()\n",
    "for word in words:\n",
    "    print(word.rstrip())\n",
    "'''\n",
    "\n",
    "'''\n",
    "결국 둘 다 못풀었는데 내일은 일어나서 한번 쭉 다 봐보자\n",
    "'''"
   ]
  }
 ],
 "metadata": {
  "language_info": {
   "name": "python"
  }
 },
 "nbformat": 4,
 "nbformat_minor": 2
}
