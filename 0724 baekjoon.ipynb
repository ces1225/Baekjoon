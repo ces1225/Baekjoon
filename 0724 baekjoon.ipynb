{
 "cells": [
  {
   "cell_type": "markdown",
   "metadata": {},
   "source": [
    "## 5086 배수와 약수 (O)"
   ]
  },
  {
   "cell_type": "code",
   "execution_count": null,
   "metadata": {},
   "outputs": [],
   "source": [
    "while True:\n",
    "    a,b =map(int,input().split())\n",
    "    if a==b==0:\n",
    "        break\n",
    "    if int(b/a) == b/a:\n",
    "        print('factor')\n",
    "    elif int(a/b) == a/b:\n",
    "        print(\"multiple\")\n",
    "    else:\n",
    "        print(\"neither\")\n",
    "\n",
    "\"\"\"\n",
    "굳이 이렇게 안하고 나머지가 0이면 나누어 떨어짐\n",
    "\n",
    "while True:  # 반복문\n",
    "    N, M = map(int, input().split())\n",
    "\n",
    "    if N == 0 and M == 0:  # 두 수 모두 0이면 반복문 종료\n",
    "        break\n",
    "    elif M % N == 0:  # 약수\n",
    "        print(\"factor\")\n",
    "    elif N % M == 0:  # 배수\n",
    "        print(\"multiple\")\n",
    "    else:\n",
    "        print(\"neither\")\n",
    "\n",
    "참고\n",
    "\"\"\""
   ]
  },
  {
   "cell_type": "markdown",
   "metadata": {},
   "source": [
    "## 2501 약수 구하기"
   ]
  },
  {
   "cell_type": "code",
   "execution_count": null,
   "metadata": {},
   "outputs": [],
   "source": [
    "a,b=map(int,input().split())\n",
    "ans=[]\n",
    "for i in range(1,a+1):\n",
    "    if a%i==0:\n",
    "        ans.append(i)\n",
    "try:\n",
    "    print(ans[b-1])\n",
    "except IndexError:\n",
    "    print(\"0\")\n",
    "\n",
    "'''\n",
    "try except 구문보다는 len[ans]와 b를 통한 식도 좋다\n",
    "'''"
   ]
  },
  {
   "cell_type": "markdown",
   "metadata": {},
   "source": [
    "## 9506 약수들의 합 (△)"
   ]
  },
  {
   "cell_type": "code",
   "execution_count": null,
   "metadata": {},
   "outputs": [],
   "source": [
    "while True:\n",
    "    n=int(input())\n",
    "    if n == -1:\n",
    "        break\n",
    "    ans=[]\n",
    "\n",
    "    for i in range(1,n):\n",
    "        if n%i==0:\n",
    "            ans.append(i)\n",
    "\n",
    "    if sum(ans) == n:\n",
    "        print(f'{n} = '+\" + \".join(map(str,ans)))\n",
    "    else: \n",
    "        print(f'{n} is NOT perfect.')\n",
    "\n",
    "\"\"\"\n",
    "join 함수의 경우 str일때만 사용이 가능하다\n",
    "\"\"\""
   ]
  },
  {
   "cell_type": "markdown",
   "metadata": {},
   "source": [
    "## 1978 소수 찾기 (O)"
   ]
  },
  {
   "cell_type": "code",
   "execution_count": null,
   "metadata": {},
   "outputs": [],
   "source": [
    "n=int(input())\n",
    "a=list(map(int,input().split()))\n",
    "cnt=0\n",
    "for i in a:\n",
    "    ans=[]\n",
    "    if i==1:\n",
    "        pass\n",
    "    else:\n",
    "        for j in range(1,i+1):\n",
    "            if i%j==0:\n",
    "                ans.append(j)\n",
    "    if len(ans) ==2:\n",
    "        cnt+=1\n",
    "print(cnt)\n",
    "\n",
    "# 소수를 체크하는 경우 숫자의 제곱근까지만 시도하는 것이 반복횟수를 줄이는데에 도움이 된다\n"
   ]
  },
  {
   "cell_type": "markdown",
   "metadata": {},
   "source": [
    "## 2581 소수 (X)"
   ]
  },
  {
   "cell_type": "code",
   "execution_count": null,
   "metadata": {},
   "outputs": [],
   "source": [
    "N=int(input())\n",
    "M=int(input())\n",
    "\n",
    "ans=[]\n",
    "for i in range(N,M+1):\n",
    "    for j in range(2,i+1):\n",
    "        if j == i:\n",
    "            ans.append(i)\n",
    "        if i % j ==0:\n",
    "            break\n",
    "\n",
    "if len(ans)>0:\n",
    "    print(sum(ans))\n",
    "    print(min(ans))\n",
    "else: \n",
    "    print(\"-1\")\n",
    "\n",
    "\"\"\"\n",
    "\n",
    "시간 초과 풀이\n",
    "\n",
    "N=int(input())\n",
    "M=int(input())\n",
    "\n",
    "ans=[]\n",
    "ans_1=[]\n",
    "\n",
    "for i in range(N,M+1):\n",
    "    if i % 2 != 0:\n",
    "        for j in range(3,i+1):\n",
    "            if i % j == 0:\n",
    "                ans_1.append(i)\n",
    "        if len(ans_1) == 1:\n",
    "            ans.append(i)\n",
    "    ans_1=[]\n",
    "\n",
    "if ans == []:\n",
    "    print(\"-1\")\n",
    "else:\n",
    "    print(ans)\n",
    "    print(sum)\n",
    "\n",
    "ans_1에 추가하는 방식이 아닌 true/false 혹은 변수 하나를 지정하여 그 숫자가\n",
    "올라갔을 때 취소하는 방법도 가능하다\n",
    "\"\"\"\n"
   ]
  },
  {
   "cell_type": "markdown",
   "metadata": {},
   "source": [
    "## 11653 소인수 분해 (O)"
   ]
  },
  {
   "cell_type": "code",
   "execution_count": null,
   "metadata": {},
   "outputs": [],
   "source": [
    "n=int(input())\n",
    "\n",
    "for j in range(2,n+1):\n",
    "    if n%j==0:\n",
    "        while True:\n",
    "            if n%j !=0:\n",
    "                break\n",
    "            print(j)\n",
    "            n=n/j\n",
    "    if n==1:\n",
    "        break\n",
    "\n",
    "\"\"\"\n",
    "아래는 그냥 i를 2부터 설정, 계산이 안되면 +1 하면서 i를 증가시켜 진행하였다\n",
    "n = int(input())\n",
    "\n",
    "i = 2\n",
    "while(n > 1):\n",
    "    if n % i == 0:\n",
    "        n = n / i\n",
    "        print(i)\n",
    "        i = 2\n",
    "    else:\n",
    "        i += 1\n",
    "\n",
    "\"\"\""
   ]
  }
 ],
 "metadata": {
  "language_info": {
   "name": "python"
  }
 },
 "nbformat": 4,
 "nbformat_minor": 2
}
