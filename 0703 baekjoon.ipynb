{
 "cells": [
  {
   "cell_type": "markdown",
   "metadata": {},
   "source": [
    "## 10926 ??!"
   ]
  },
  {
   "cell_type": "code",
   "execution_count": null,
   "metadata": {},
   "outputs": [],
   "source": [
    "nick=input()\n",
    "a=f'{nick}??!'\n",
    "print(a)\n",
    "\n",
    "# f 포매팅 다시 한번 체크"
   ]
  },
  {
   "cell_type": "markdown",
   "metadata": {},
   "source": [
    "## 18108 1998~"
   ]
  },
  {
   "cell_type": "code",
   "execution_count": null,
   "metadata": {},
   "outputs": [],
   "source": [
    "year=int(input())\n",
    "year_= year  - int(543)\n",
    "print(year_)"
   ]
  },
  {
   "cell_type": "markdown",
   "metadata": {},
   "source": [
    "## 10430. 나머지"
   ]
  },
  {
   "cell_type": "code",
   "execution_count": null,
   "metadata": {},
   "outputs": [],
   "source": [
    "A,B,C=map(int,input().split())\n",
    "print((A+B)%C)\n",
    "print(((A%C)+(B%C))%C)\n",
    "print((A*B)%C)\n",
    "print(((A%C)*(B%C))%C)"
   ]
  },
  {
   "cell_type": "markdown",
   "metadata": {},
   "source": [
    "## 2588. 곱셈"
   ]
  },
  {
   "cell_type": "code",
   "execution_count": null,
   "metadata": {},
   "outputs": [],
   "source": [
    "a=int(input())\n",
    "b=input()\n",
    "\n",
    "c = int(b[2]) * a \n",
    "d = int(b[1]) * a \n",
    "e = int(b[0]) * a \n",
    "f= c + (10 * d) + (100 * e)\n",
    "\n",
    "print(c)\n",
    "print(d)\n",
    "print(e)\n",
    "print(f)"
   ]
  },
  {
   "cell_type": "markdown",
   "metadata": {},
   "source": [
    "## 10699 오늘 날짜"
   ]
  },
  {
   "cell_type": "code",
   "execution_count": null,
   "metadata": {},
   "outputs": [],
   "source": [
    "from datetime import datetime\n",
    "now = datetime.now().date()\n",
    "print(now)\n",
    "\n",
    "'''\n",
    "import datetime\n",
    "now =datetime.datetime.now().date()\n",
    "print(now)\n",
    "'''\n",
    "\n",
    "# 위와 밑은 같은 말이다.\n",
    "# 두번 적기 싫다면 위처럼 from를 이용하도록 하자\n"
   ]
  },
  {
   "cell_type": "markdown",
   "metadata": {},
   "source": [
    "## 1110. 더하기 싸이클"
   ]
  },
  {
   "cell_type": "code",
   "execution_count": null,
   "metadata": {},
   "outputs": [],
   "source": [
    "n= int(input())\n",
    "tmp = n # while문에서 변경될 변수\n",
    "a = 0 # 십의 자리 변수\n",
    "b = 0 # 일의 자리 변수\n",
    "c = 0 # a+b 결과를 담을 변수\n",
    "cnt = 0 # 연산 횟수\n",
    "\n",
    "while True:\n",
    "    if tmp < 10: # 10보다 작은 경우 십의 자리에 0을 셋팅해서 연산\n",
    "        a = 0\n",
    "        b = tmp\n",
    "        c = a+b\n",
    "    else: # 10보다 크면 십의 자리와 일의 자리를 분리하여 합을 구함\n",
    "        a = tmp//10\n",
    "        b = tmp%10\n",
    "        c = a+b\n",
    "    \n",
    "    cnt = cnt + 1\n",
    "    tmp = b * 10 + c % 10\n",
    "\n",
    "    if tmp == n:\n",
    "        print(cnt)\n",
    "        break\n",
    "\n",
    "    '''\n",
    "    다시 확인 필요\n",
    "    '''"
   ]
  }
 ],
 "metadata": {
  "language_info": {
   "name": "python"
  }
 },
 "nbformat": 4,
 "nbformat_minor": 2
}
