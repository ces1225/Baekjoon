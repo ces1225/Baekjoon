{
 "cells": [
  {
   "cell_type": "markdown",
   "metadata": {},
   "source": [
    "## 2738 행렬 덧셈"
   ]
  },
  {
   "cell_type": "code",
   "execution_count": null,
   "metadata": {},
   "outputs": [],
   "source": [
    "N,M=map(int,input().split())\n",
    "a=[]\n",
    "b=[]\n",
    "for _ in range(N):\n",
    "    a_ = list(map(int,input().split()))\n",
    "    a.append(a_)\n",
    "for _ in range(N):\n",
    "    b_ = list(map(int,input().split()))\n",
    "    b.append(b_)\n",
    "\n",
    "for i in range(N):\n",
    "    for j in range(M):\n",
    "        print(a[i][j]+b[i][j], end=\" \")\n",
    "    print() # 공백 넣기\n",
    "\n"
   ]
  }
 ],
 "metadata": {
  "language_info": {
   "name": "python"
  }
 },
 "nbformat": 4,
 "nbformat_minor": 2
}
