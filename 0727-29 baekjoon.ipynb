{
 "cells": [
  {
   "cell_type": "markdown",
   "metadata": {},
   "source": [
    "## 1018 체스판 다시 칠하기 (X)"
   ]
  },
  {
   "cell_type": "code",
   "execution_count": null,
   "metadata": {},
   "outputs": [],
   "source": [
    "N, M = map(int, input().split())\n",
    "original = []\n",
    "count = []\n",
    "\n",
    "for _ in range(N):\n",
    "    original.append(input())\n",
    "\n",
    "for a in range(N-7):\n",
    "    for b in range(M-7):\n",
    "        index1 = 0\n",
    "        index2 = 0\n",
    "        for i in range(a, a+8):\n",
    "            for j in range(b, b+8):\n",
    "                if (i+j) % 2 == 0:\n",
    "                    if original[i][j] != 'W':\n",
    "                        index1 += 1\n",
    "                    if original[i][j] != 'B':\n",
    "                        index2 += 1\n",
    "                else:\n",
    "                    if original[i][j] != 'B':\n",
    "                        index1 += 1\n",
    "                    if original[i][j] != 'W':\n",
    "                        index2 += 1\n",
    "        count.append(min(index1, index2))\n",
    "print(min(count))"
   ]
  },
  {
   "cell_type": "markdown",
   "metadata": {},
   "source": [
    "## 1436 영화감독 숌 (X)"
   ]
  },
  {
   "cell_type": "code",
   "execution_count": null,
   "metadata": {},
   "outputs": [],
   "source": [
    "n=int(input())\n",
    "\n",
    "Endnumber=666\n",
    "cnt=0\n",
    "while True:\n",
    "    if \"666\" in str(Endnumber):\n",
    "        cnt += 1\n",
    "        if cnt == n:\n",
    "            break\n",
    "    Endnumber += 1\n",
    "print(Endnumber)"
   ]
  },
  {
   "cell_type": "markdown",
   "metadata": {},
   "source": [
    "## 2839 설탕 배달 (X)"
   ]
  },
  {
   "cell_type": "code",
   "execution_count": null,
   "metadata": {},
   "outputs": [],
   "source": [
    "n=int(input())\n",
    "ans=[]\n",
    "for i in range(n):\n",
    "    for j in range(n):\n",
    "        if 3 * i + 5 * j == n:\n",
    "            ans.append(i+j)\n",
    "if ans==[]:\n",
    "    print(\"-1\")\n",
    "else:\n",
    "    print(min(ans))\n",
    "\n",
    "# sugar=int(input())\n",
    "# bag=0\n",
    "# while sugar > 0:\n",
    "#     if sugar % 5 ==0:\n",
    "#         bag += sugar // 5\n",
    "#         print(bag)\n",
    "#         break\n",
    "#     sugar -=3\n",
    "#     bag +=1\n",
    "# else:\n",
    "#     print(\"-1\") "
   ]
  },
  {
   "cell_type": "markdown",
   "metadata": {},
   "source": [
    "## 2750 수 정렬하기"
   ]
  },
  {
   "cell_type": "code",
   "execution_count": null,
   "metadata": {},
   "outputs": [],
   "source": [
    "n=int(input())\n",
    "ans=[]\n",
    "for _ in range(n):\n",
    "    ans.append(int(input()))\n",
    "ans.sort()\n",
    "for i in range(n):\n",
    "    print(ans[i])"
   ]
  },
  {
   "cell_type": "markdown",
   "metadata": {},
   "source": [
    "## 2587 대표값 2"
   ]
  },
  {
   "cell_type": "code",
   "execution_count": null,
   "metadata": {},
   "outputs": [],
   "source": [
    "lst=[]\n",
    "for _ in range(5):\n",
    "    lst.append(int(input()))\n",
    "lst.sort()\n",
    "print(sum(lst)//5)\n",
    "print(lst[2])"
   ]
  },
  {
   "cell_type": "markdown",
   "metadata": {},
   "source": [
    "## 25305 커트라인"
   ]
  },
  {
   "cell_type": "code",
   "execution_count": null,
   "metadata": {},
   "outputs": [],
   "source": [
    "N,k=map(int,input().split())\n",
    "score=list(map(int,input().split()))\n",
    "score.sort()\n",
    "print(score[-k])"
   ]
  },
  {
   "cell_type": "markdown",
   "metadata": {},
   "source": [
    "## 2751 수 정렬하기 2"
   ]
  },
  {
   "cell_type": "code",
   "execution_count": null,
   "metadata": {},
   "outputs": [],
   "source": [
    "import sys\n",
    "input = sys.stdin.readline\n",
    "\n",
    "n=int(input())\n",
    "ans=[]\n",
    "for _ in range(n):\n",
    "    ans.append(int(input()))\n",
    "ans.sort()\n",
    "for i in ans:\n",
    "    print(i)"
   ]
  },
  {
   "cell_type": "markdown",
   "metadata": {},
   "source": [
    "## 10989 수 정렬하기 3"
   ]
  },
  {
   "cell_type": "code",
   "execution_count": null,
   "metadata": {},
   "outputs": [],
   "source": [
    "import sys\n",
    "input = sys.stdin.readline\n",
    "\n",
    "n=int(input())\n",
    "arr = [0] * 10001\n",
    "\n",
    "for _ in range(n):\n",
    "    num=int(sys.stdin.readline())\n",
    "    arr[num] += 1\n",
    "    \n",
    "for i in range(10001):\n",
    "    if arr[i] != 0:\n",
    "        for j in range(arr[i]):\n",
    "            print(i)"
   ]
  },
  {
   "cell_type": "markdown",
   "metadata": {},
   "source": [
    "## 11650 좌표 정렬하기"
   ]
  },
  {
   "cell_type": "code",
   "execution_count": null,
   "metadata": {},
   "outputs": [],
   "source": [
    "N=int(input())\n",
    "arr=[]\n",
    "for _ in range(N):\n",
    "    xy=list(map(int,input().split()))\n",
    "    arr.append(xy)\n",
    "arr.sort()\n",
    "for i in range(N):\n",
    "    print(arr[i][0],arr[i][1])"
   ]
  },
  {
   "cell_type": "markdown",
   "metadata": {},
   "source": [
    "## 11651 좌표 정렬하기 2 "
   ]
  },
  {
   "cell_type": "code",
   "execution_count": null,
   "metadata": {},
   "outputs": [],
   "source": [
    "import sys\n",
    "n=int(input())\n",
    "arr=[]\n",
    "for _ in range(n):\n",
    "    xy=list(map(int,sys.stdin.readline().split()))\n",
    "    arr.append(xy)\n",
    "for i in range(n):\n",
    "    arr[i][0],arr[i][1] = arr[i][1], arr[i][0]\n",
    "arr.sort()\n",
    "for i in range(n):\n",
    "    arr[i][0],arr[i][1] = arr[i][1], arr[i][0]\n",
    "for i in range(n):\n",
    "    print(arr[i][0],arr[i][1])\n",
    "# sort 함수 인자로 key=function을 넣게 되면 기준으로 만들수있음\n",
    "# li.sort(key = lambda x: (x[1], x[0] )) : 두번째값 기준 오름차순 첫번째 값 오름차순\n",
    "# li.sort(key = lambaa x:(-x[1], x[0] )) : 두번째값 기준 내림차순 첫번째 값 오름차순"
   ]
  },
  {
   "cell_type": "markdown",
   "metadata": {},
   "source": [
    "## 1181 단어 정렬"
   ]
  },
  {
   "cell_type": "code",
   "execution_count": null,
   "metadata": {},
   "outputs": [],
   "source": [
    "n=int(input())\n",
    "wlst=[]\n",
    "for _ in range(n):\n",
    "    word=input()\n",
    "    wlst.append(word)\n",
    "wlst=list(set(wlst))\n",
    "wlst.sort()\n",
    "wlst.sort(key = len)\n",
    "for i in wlst:\n",
    "    print(i)\n",
    "\n",
    "# 틀린 부분: sort(key= len) or sort(key = lambda x:len(x))"
   ]
  },
  {
   "cell_type": "markdown",
   "metadata": {},
   "source": [
    "## 10814 나이순 정렬 "
   ]
  },
  {
   "cell_type": "code",
   "execution_count": null,
   "metadata": {},
   "outputs": [],
   "source": [
    "import sys\n",
    "input=sys.stdin.readline\n",
    "\n",
    "n=int(input())\n",
    "lst=[]\n",
    "for _ in range(n):\n",
    "    dd=list(map(str,input().split()))\n",
    "    lst.append(dd)\n",
    "lst.sort(key= lambda x: int(x[0]))\n",
    "for i in range(n):\n",
    "    print(lst[i][0],lst[i][1])\n",
    "\n",
    "# # 논점 lst.sort(key= lambda x: int(x[0])) 앞에꺼만 하면 뒤에는 자명하게 되는듯싶다\n",
    "# # sorted(iterable, /, *, key=None, reverse=False)"
   ]
  },
  {
   "cell_type": "markdown",
   "metadata": {},
   "source": [
    "## 18870 좌표 압축"
   ]
  },
  {
   "cell_type": "code",
   "execution_count": null,
   "metadata": {},
   "outputs": [],
   "source": [
    "#  오답\n",
    "# import sys\n",
    "# input=sys.stdin.readline\n",
    "# n=int(input())\n",
    "# ans=list(map(int,input().split()))\n",
    "# sol=[]\n",
    "# for i in range(n):\n",
    "#     cnt=0\n",
    "#     for j in range(n):\n",
    "#         if ans[i] > ans[j]:\n",
    "#             cnt += 1\n",
    "#     sol.append(cnt)\n",
    "\n",
    "# 다른사람 풀이\n",
    "import sys\n",
    "n = int(sys.stdin.readline())\n",
    "num = list(map(int,sys.stdin.readline().split()))\n",
    "arr=sorted(set(num))\n",
    "dic={}\n",
    "for i in range(len(arr)):\n",
    "    dic[arr[i]] = i\n",
    "for i in num:\n",
    "    print(dic[i],end=\" \")\n",
    "# 설명: dictionary를 사용한 풀이\n",
    "# set를 사용하여 중복을 방지, 이후 dictionary를 사용하여\n",
    "# 입력된 리스트의 {999: 0, 1000: 1}와 같이 키와 밸류를 지정하였다\n",
    "# 입력한 num을 for문으로 돌리면서 dic에 저장된 value값을 출력하며 마무리"
   ]
  },
  {
   "cell_type": "markdown",
   "metadata": {},
   "source": [
    "## 10815 숫자 카드"
   ]
  },
  {
   "cell_type": "code",
   "execution_count": null,
   "metadata": {},
   "outputs": [],
   "source": [
    "N=int(input())\n",
    "SG=list(input().split())\n",
    "M=int(input())\n",
    "lst=list(input().split())\n",
    "dic={}\n",
    "for i in range(N):\n",
    "    dic[SG[i]] = i\n",
    "for i in lst:\n",
    "    if i in dic:\n",
    "        print(1, end=\" \")\n",
    "    else:\n",
    "        print(0, end=\" \")\n",
    "       \n",
    "# dictionary를 사용하여 풀이한 문제\n",
    "# 첫 시도는 for문과 if문을 사용하였지만 큰 숫자가 나오게 되면 시간초과\n",
    "# dictionary를 생성하여 상근의 카드를 입력, 저장\n",
    "# 이후에 없는 카드들을 dictionary에 대입하여 완료\n",
    "\n",
    "# 2번째 방법 이진탐색\n",
    "\n",
    "import bisect\n",
    "N = int(input())\n",
    "card = list(map(int, input().split()))\n",
    "M = int(input())\n",
    "other = list(map(int, input().split()))\n",
    "card.sort()\n",
    "for o in other:\n",
    "    l = bisect.bisect_left(card, o)\n",
    "    r = bisect.bisect_right(card, o)\n",
    "    print(r - l, end=' ')\n",
    "\n",
    "# 정렬된 리스트에만 사용이 가능함 \n",
    "# bisect_left 의 경우 card에서 o가 처음 나타나는 인덱스를 반환\n",
    "# bisect_right의 경우 card에서 o보다 큰 값이 처음 나타나는 인덱스를 반환\n",
    "# 처음 나타나는 인덱스와 큰 값이 처음 나타나는 인덱스를 통해서 계산을 하기 떄문에\n",
    "# 정렬된 리스트가 꼭 필요한 것임\n",
    "# 두 인덱스의 차를 구하면 o요소가 나타나는 횟수를 알아낼 수 있음."
   ]
  },
  {
   "cell_type": "markdown",
   "metadata": {},
   "source": [
    "## 14423 문자열 집합"
   ]
  },
  {
   "cell_type": "code",
   "execution_count": null,
   "metadata": {},
   "outputs": [],
   "source": [
    "N,M=list(map(int,input().split()))\n",
    "wlst=[]\n",
    "cnt=0\n",
    "for _ in range(N):\n",
    "    wrd=str(input())\n",
    "    wlst.append(wrd)\n",
    "dic={}\n",
    "for i in range(N):\n",
    "    dic[wlst[i]]=i\n",
    "for _ in range(M):\n",
    "    cpwrd=str(input())\n",
    "    if cpwrd in dic:\n",
    "        cnt+=1\n",
    "print(cnt)\n",
    "\n",
    "# 체크해야할 부분 : dictionary 사용법에 아직 익숙하지 않다 좀더 연습 필요\n",
    "# set를 통해 풀이도 가능하다 \n",
    "\n",
    "import sys\n",
    "input = sys.stdin.readline\n",
    "N, M = map(int, input().rstrip().split())\n",
    "S = set()\n",
    "count = 0\n",
    "for _ in range(N):\n",
    "  S.add(input().rstrip())\n",
    "for _ in range(M):\n",
    "  if input().rstrip() in S:\n",
    "    count += 1\n",
    "print(count)\n"
   ]
  },
  {
   "cell_type": "markdown",
   "metadata": {},
   "source": [
    "## 7785 회사에 있는 사람"
   ]
  },
  {
   "cell_type": "code",
   "execution_count": null,
   "metadata": {},
   "outputs": [],
   "source": [
    "n=int(input())\n",
    "dic={}\n",
    "ans=[]\n",
    "for _ in range(n):\n",
    "    name,info =map(str,input().split())\n",
    "    dic[name] = info\n",
    "for i in dic:\n",
    "    if dic[i] != \"leave\":\n",
    "        ans.append(i)\n",
    "ans.sort()\n",
    "ans.reverse()\n",
    "for i in ans:\n",
    "    print(i) "
   ]
  }
 ],
 "metadata": {
  "language_info": {
   "name": "python"
  }
 },
 "nbformat": 4,
 "nbformat_minor": 2
}
