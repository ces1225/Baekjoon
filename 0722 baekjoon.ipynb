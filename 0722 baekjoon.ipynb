{
 "cells": [
  {
   "cell_type": "markdown",
   "metadata": {},
   "source": [
    "## 2745. 진법 변환 (x) (△)"
   ]
  },
  {
   "cell_type": "code",
   "execution_count": null,
   "metadata": {},
   "outputs": [],
   "source": [
    "n,b=input().split()\n",
    "print(int(n,int(b)))\n",
    "\n",
    "'''\n",
    "파이썬 내장함수를 통한 쉬운 식\n",
    "'''\n",
    "\n",
    "n,b=input().split()\n",
    "arr=\"0123456789ABCDEFGHIJKLMNOPQRSTUVWXYZ\"\n",
    "\n",
    "n=n[::-1]\n",
    "result=0\n",
    "\n",
    "for i, j in enumerate(n):\n",
    "    result += (int(b)**i)*(arr.index(j))\n",
    "print(result) \n",
    "\n",
    "\"\"\"\n",
    "진법 변환을 통한 식\n",
    "\"\"\""
   ]
  },
  {
   "cell_type": "markdown",
   "metadata": {},
   "source": [
    "# 11005 진법 변환 2 (X) (O)"
   ]
  },
  {
   "cell_type": "code",
   "execution_count": null,
   "metadata": {},
   "outputs": [],
   "source": [
    "num =\"0123456789ABCDEFGHIJKLMNOPQRSTUVWXYZ\"\n",
    "\n",
    "N,b=map(int,input().split())\n",
    "ans=\"\"\n",
    "while N:\n",
    "    a= N%b\n",
    "    ans = num[a]+ ans\n",
    "    N=N//b\n",
    "print(ans,end=\"\")   \n"
   ]
  },
  {
   "cell_type": "markdown",
   "metadata": {},
   "source": [
    "# 2720 세탁소 사장 동혁 (o)"
   ]
  },
  {
   "cell_type": "code",
   "execution_count": null,
   "metadata": {},
   "outputs": [],
   "source": [
    "t = int(input())\n",
    "\n",
    "for _ in range(t):\n",
    "    n= int(input())\n",
    "    print(n//25,end=\" \")\n",
    "    n= n%25\n",
    "    print(n//10,end=\" \")\n",
    "    n= n%10\n",
    "    print(n//5,end=\" \")\n",
    "    n= n%5\n",
    "    print(n//1)\n",
    "    "
   ]
  },
  {
   "cell_type": "markdown",
   "metadata": {},
   "source": [
    "## 2903 중앙 이동 알고리즘 (X) (O)"
   ]
  },
  {
   "cell_type": "code",
   "execution_count": null,
   "metadata": {},
   "outputs": [],
   "source": [
    "n= int (input())\n",
    "a=2\n",
    "for i in range(1,n+1):\n",
    "    a = a + (2**(i-1))\n",
    "print(a*a)\n",
    "\n",
    "'''\n",
    "난 이렇게 풀었다\n",
    "'''\n",
    "\n",
    "n= int(input())\n",
    "print((2**n+1)**2)\n",
    "\"\"\"\n",
    "사람들은 이렇게 품\n",
    "\"\"\""
   ]
  },
  {
   "cell_type": "markdown",
   "metadata": {},
   "source": [
    "## 2292 벌집 (X) (X)"
   ]
  },
  {
   "cell_type": "code",
   "execution_count": null,
   "metadata": {},
   "outputs": [],
   "source": [
    "num=int(input())\n",
    "numbox=1\n",
    "cnt=1\n",
    "\n",
    "while num > numbox: # num이 numbox보다 크다면 실행 \n",
    "    numbox += 6 * cnt\n",
    "    cnt += 1\n",
    "print(cnt)\n",
    "\n"
   ]
  },
  {
   "cell_type": "markdown",
   "metadata": {},
   "source": [
    "## 2869 달팽이는 올라가고 싶다 (X)"
   ]
  },
  {
   "cell_type": "code",
   "execution_count": null,
   "metadata": {},
   "outputs": [],
   "source": [
    "a,b,v=map(int,input().split())\n",
    "\n",
    "day = (v-b)/(a-b)\n",
    "\n",
    "if day == int(day):\n",
    "    print(int(day))\n",
    "else:\n",
    "    print(int(day)+1)\n",
    "\n",
    "\"\"\"\n",
    "반복문으로 풀면 실패\n",
    "점화식을 만드는 것도 푸는데에 도움이 될 수 있다.\n",
    "\"\"\""
   ]
  },
  {
   "cell_type": "markdown",
   "metadata": {},
   "source": [
    "## 1193 분수 찾기 (X) (X)"
   ]
  },
  {
   "cell_type": "code",
   "execution_count": null,
   "metadata": {},
   "outputs": [],
   "source": [
    "n= int(input())\n",
    "\n",
    "line = 1\n",
    "while n > line:\n",
    "    n -= line\n",
    "    line += 1\n",
    "\n",
    "if line % 2 == 0:\n",
    "    up = n\n",
    "    down = line - n + 1\n",
    "else:\n",
    "    up = line -n + 1\n",
    "    down = n\n",
    "print(up,\"/\",down , sep=\"\")\n",
    "\n",
    "'''\n",
    "덧셈으로 하는 식 / 뺄셈으로 하는 식\n",
    "'''\n",
    "n=int(input())\n",
    "\n",
    "line = 0\n",
    "end = 0\n",
    "while n > end:\n",
    "    line += 1\n",
    "    end += line\n",
    "diff = end - n\n",
    "if line % 2 == 0:\n",
    "    top = line - diff\n",
    "    bottom = diff +1\n",
    "else: \n",
    "    top = diff + 1\n",
    "    bottom = line - diff\n"
   ]
  },
  {
   "cell_type": "markdown",
   "metadata": {},
   "source": []
  },
  {
   "cell_type": "code",
   "execution_count": null,
   "metadata": {},
   "outputs": [],
   "source": []
  }
 ],
 "metadata": {
  "language_info": {
   "name": "python"
  }
 },
 "nbformat": 4,
 "nbformat_minor": 2
}
